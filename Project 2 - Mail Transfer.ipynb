{
 "cells": [
  {
   "cell_type": "code",
   "execution_count": 1,
   "metadata": {},
   "outputs": [],
   "source": [
    "import emails"
   ]
  },
  {
   "cell_type": "code",
   "execution_count": 9,
   "metadata": {},
   "outputs": [],
   "source": [
    "message = emails.html(html = \"html_text\",\n",
    "subject=\"Your EMAIL FROM PYTHON SCRIPT\",\n",
    "mail_from=('Rowdy LetsUpgrade', 'sai@xyz.com'))"
   ]
  },
  {
   "cell_type": "code",
   "execution_count": 12,
   "metadata": {},
   "outputs": [],
   "source": [
    "mail_via_python = message.send(to='ciwof65501@febeks.com',\n",
    "    smtp={'host': 'smtp.gmail.com','timeout': 5,'port':587,\n",
    "    'user':'sravangopalapuram7@gmail.com',\n",
    "    'password':'Gs4e@123',\n",
    "    'tls':True})"
   ]
  },
  {
   "cell_type": "code",
   "execution_count": null,
   "metadata": {},
   "outputs": [],
   "source": []
  }
 ],
 "metadata": {
  "kernelspec": {
   "display_name": "Python 3",
   "language": "python",
   "name": "python3"
  },
  "language_info": {
   "codemirror_mode": {
    "name": "ipython",
    "version": 3
   },
   "file_extension": ".py",
   "mimetype": "text/x-python",
   "name": "python",
   "nbconvert_exporter": "python",
   "pygments_lexer": "ipython3",
   "version": "3.8.5"
  }
 },
 "nbformat": 4,
 "nbformat_minor": 4
}
